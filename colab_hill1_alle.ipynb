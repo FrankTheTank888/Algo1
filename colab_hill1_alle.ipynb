{
  "nbformat": 4,
  "nbformat_minor": 0,
  "metadata": {
    "colab": {
      "provenance": [],
      "authorship_tag": "ABX9TyM/FXOBnCrez5nOrkNKhmoi",
      "include_colab_link": true
    },
    "kernelspec": {
      "name": "python3",
      "display_name": "Python 3"
    },
    "language_info": {
      "name": "python"
    }
  },
  "cells": [
    {
      "cell_type": "markdown",
      "metadata": {
        "id": "view-in-github",
        "colab_type": "text"
      },
      "source": [
        "<a href=\"https://colab.research.google.com/github/FrankTheTank888/Algo1/blob/master/colab_hill1_alle.ipynb\" target=\"_parent\"><img src=\"https://colab.research.google.com/assets/colab-badge.svg\" alt=\"Open In Colab\"/></a>"
      ]
    },
    {
      "cell_type": "code",
      "execution_count": 3,
      "metadata": {
        "colab": {
          "base_uri": "https://localhost:8080/"
        },
        "id": "DRzZTkbtHo7L",
        "outputId": "76e425db-a57a-4f53-c664-d3e30293196b"
      },
      "outputs": [
        {
          "output_type": "stream",
          "name": "stdout",
          "text": [
            "\n",
            "--- Finde alle Hügel in einem Array ---\n",
            "\n",
            "Array:\n",
            "62 13 57 48 54 67 16 29 50 76 \n",
            "\n",
            "\u001b[94m62\u001b[0m \u001b[92m13\u001b[0m 57 48 54 67 16 29 50 76 *\n",
            "\u001b[91m62\u001b[0m \u001b[94m13\u001b[0m \u001b[91m57\u001b[0m 48 54 67 16 29 50 76 \n",
            "62 \u001b[92m13\u001b[0m \u001b[94m57\u001b[0m \u001b[92m48\u001b[0m 54 67 16 29 50 76 *\n",
            "62 13 \u001b[91m57\u001b[0m \u001b[94m48\u001b[0m \u001b[91m54\u001b[0m 67 16 29 50 76 \n",
            "62 13 57 \u001b[92m48\u001b[0m \u001b[94m54\u001b[0m \u001b[91m67\u001b[0m 16 29 50 76 \n",
            "62 13 57 48 \u001b[92m54\u001b[0m \u001b[94m67\u001b[0m \u001b[92m16\u001b[0m 29 50 76 *\n",
            "62 13 57 48 54 \u001b[91m67\u001b[0m \u001b[94m16\u001b[0m \u001b[91m29\u001b[0m 50 76 \n",
            "62 13 57 48 54 67 \u001b[92m16\u001b[0m \u001b[94m29\u001b[0m \u001b[91m50\u001b[0m 76 \n",
            "62 13 57 48 54 67 16 \u001b[92m29\u001b[0m \u001b[94m50\u001b[0m \u001b[91m76\u001b[0m \n",
            "62 13 57 48 54 67 16 29 \u001b[92m50\u001b[0m \u001b[94m76\u001b[0m *\n",
            "\n",
            "Hills:\n",
            "Position: 0, Value: \u001b[91m62\u001b[0m\n",
            "Position: 2, Value: \u001b[91m57\u001b[0m\n",
            "Position: 5, Value: \u001b[91m67\u001b[0m\n",
            "Position: 9, Value: \u001b[91m76\u001b[0m\n",
            "\n",
            "--- Programm beendet. ---\n",
            "\n"
          ]
        }
      ],
      "source": [
        "import random\n",
        "\n",
        "N = 10\n",
        "arr = [random.randint(1, 100) for _ in range(N)]\n",
        "hills = []\n",
        "\n",
        "def print_array(arr, current=None):\n",
        "    for i in range(N):\n",
        "        if i == current:\n",
        "            print(f\"\\033[94m{arr[i]}\\033[0m\", end=\" \") # blue\n",
        "        elif current is not None and abs(i - current) == 1:\n",
        "            if arr[i] > arr[current]:\n",
        "                print(f\"\\033[91m{arr[i]}\\033[0m\", end=\" \") # red\n",
        "            elif arr[i] < arr[current]:\n",
        "                print(f\"\\033[92m{arr[i]}\\033[0m\", end=\" \") # green\n",
        "            else:\n",
        "                print(f\"\\033[93m{arr[i]}\\033[0m\", end=\" \") # orange\n",
        "        else:\n",
        "            print(arr[i], end=\" \")\n",
        "    if current in hills:\n",
        "        print(\"*\", end=\"\")\n",
        "    print()\n",
        "\n",
        "print (\"\\n--- Finde alle Hügel in einem Array ---\")\n",
        "\n",
        "print(\"\\nArray:\")\n",
        "print_array(arr)\n",
        "print()\n",
        "\n",
        "for i in range(N):\n",
        "    left_neighbor = arr[i-1] if i > 0 else None\n",
        "    right_neighbor = arr[i+1] if i < N-1 else None\n",
        "    \n",
        "    if (left_neighbor is None or arr[i] > left_neighbor) and (right_neighbor is None or arr[i] > right_neighbor):\n",
        "        hills.append(i)\n",
        "    \n",
        "    print_array(arr, i)\n",
        "\n",
        "print()\n",
        "print(\"Hills:\")\n",
        "for hill in hills:\n",
        "    print(f\"Position: {hill}, Value: \\033[91m{arr[hill]}\\033[0m\") # red\n",
        "\n",
        "print(\"\\n--- Programm beendet. ---\\n\")\n"
      ]
    }
  ]
}